{
  "cells": [
    {
      "metadata": {
        "_cell_guid": "e81ee64d-e474-4662-9036-ce23df615199",
        "_uuid": "b6269c0e8f417f82daf093dda8fa0da6d2c57d86"
      },
      "cell_type": "markdown",
      "source": "# Introduction\n**This will be your workspace for Kaggle's Machine Learning education track.**\n\nYou will build and continually improve a model to predict housing prices as you work through each tutorial.  Fork this notebook and write your code in it.\n\nThe data from the tutorial, the Melbourne data, is not available in this workspace.  You will need to translate the concepts to work with the data in this notebook, the Iowa data.\n\nCome to the [Learn Discussion](https://www.kaggle.com/learn-forum) forum for any questions or comments. \n\n# Write Your Code Below\n\n"
    },
    {
      "metadata": {
        "_cell_guid": "86b26423-563a-4fa1-a595-89e25ff93089",
        "_uuid": "1c728098629e1301643443b1341556a15c089b2b",
        "trusted": true
      },
      "cell_type": "code",
      "source": "import pandas as pd\n\n# saving file path of lowa data in main_file_path\nlowa_file_path = '../input/train.csv'\n# reading and storing the data in DataFrame \nlowa_data = pd.read_csv(lowa_file_path)\n# print summary of lowa data\nprint(lowa_data.describe())",
      "execution_count": 1,
      "outputs": [
        {
          "output_type": "stream",
          "text": "                Id   MSSubClass  LotFrontage        LotArea  OverallQual  \\\ncount  1460.000000  1460.000000  1201.000000    1460.000000  1460.000000   \nmean    730.500000    56.897260    70.049958   10516.828082     6.099315   \nstd     421.610009    42.300571    24.284752    9981.264932     1.382997   \nmin       1.000000    20.000000    21.000000    1300.000000     1.000000   \n25%     365.750000    20.000000    59.000000    7553.500000     5.000000   \n50%     730.500000    50.000000    69.000000    9478.500000     6.000000   \n75%    1095.250000    70.000000    80.000000   11601.500000     7.000000   \nmax    1460.000000   190.000000   313.000000  215245.000000    10.000000   \n\n       OverallCond    YearBuilt  YearRemodAdd   MasVnrArea   BsmtFinSF1  \\\ncount  1460.000000  1460.000000   1460.000000  1452.000000  1460.000000   \nmean      5.575342  1971.267808   1984.865753   103.685262   443.639726   \nstd       1.112799    30.202904     20.645407   181.066207   456.098091   \nmin       1.000000  1872.000000   1950.000000     0.000000     0.000000   \n25%       5.000000  1954.000000   1967.000000     0.000000     0.000000   \n50%       5.000000  1973.000000   1994.000000     0.000000   383.500000   \n75%       6.000000  2000.000000   2004.000000   166.000000   712.250000   \nmax       9.000000  2010.000000   2010.000000  1600.000000  5644.000000   \n\n           ...         WoodDeckSF  OpenPorchSF  EnclosedPorch    3SsnPorch  \\\ncount      ...        1460.000000  1460.000000    1460.000000  1460.000000   \nmean       ...          94.244521    46.660274      21.954110     3.409589   \nstd        ...         125.338794    66.256028      61.119149    29.317331   \nmin        ...           0.000000     0.000000       0.000000     0.000000   \n25%        ...           0.000000     0.000000       0.000000     0.000000   \n50%        ...           0.000000    25.000000       0.000000     0.000000   \n75%        ...         168.000000    68.000000       0.000000     0.000000   \nmax        ...         857.000000   547.000000     552.000000   508.000000   \n\n       ScreenPorch     PoolArea       MiscVal       MoSold       YrSold  \\\ncount  1460.000000  1460.000000   1460.000000  1460.000000  1460.000000   \nmean     15.060959     2.758904     43.489041     6.321918  2007.815753   \nstd      55.757415    40.177307    496.123024     2.703626     1.328095   \nmin       0.000000     0.000000      0.000000     1.000000  2006.000000   \n25%       0.000000     0.000000      0.000000     5.000000  2007.000000   \n50%       0.000000     0.000000      0.000000     6.000000  2008.000000   \n75%       0.000000     0.000000      0.000000     8.000000  2009.000000   \nmax     480.000000   738.000000  15500.000000    12.000000  2010.000000   \n\n           SalePrice  \ncount    1460.000000  \nmean   180921.195890  \nstd     79442.502883  \nmin     34900.000000  \n25%    129975.000000  \n50%    163000.000000  \n75%    214000.000000  \nmax    755000.000000  \n\n[8 rows x 38 columns]\n",
          "name": "stdout"
        }
      ]
    },
    {
      "metadata": {
        "_cell_guid": "9ab512bb-210c-4cb3-821c-4243801cc7e1",
        "_uuid": "f49143097d64df4963fc945050ae89a7b2fbbd75",
        "trusted": true
      },
      "cell_type": "code",
      "source": "# print column names present in lowa_data\nprint(lowa_data.columns)",
      "execution_count": 9,
      "outputs": [
        {
          "output_type": "stream",
          "text": "Index(['Id', 'MSSubClass', 'MSZoning', 'LotFrontage', 'LotArea', 'Street',\n       'Alley', 'LotShape', 'LandContour', 'Utilities', 'LotConfig',\n       'LandSlope', 'Neighborhood', 'Condition1', 'Condition2', 'BldgType',\n       'HouseStyle', 'OverallQual', 'OverallCond', 'YearBuilt', 'YearRemodAdd',\n       'RoofStyle', 'RoofMatl', 'Exterior1st', 'Exterior2nd', 'MasVnrType',\n       'MasVnrArea', 'ExterQual', 'ExterCond', 'Foundation', 'BsmtQual',\n       'BsmtCond', 'BsmtExposure', 'BsmtFinType1', 'BsmtFinSF1',\n       'BsmtFinType2', 'BsmtFinSF2', 'BsmtUnfSF', 'TotalBsmtSF', 'Heating',\n       'HeatingQC', 'CentralAir', 'Electrical', '1stFlrSF', '2ndFlrSF',\n       'LowQualFinSF', 'GrLivArea', 'BsmtFullBath', 'BsmtHalfBath', 'FullBath',\n       'HalfBath', 'BedroomAbvGr', 'KitchenAbvGr', 'KitchenQual',\n       'TotRmsAbvGrd', 'Functional', 'Fireplaces', 'FireplaceQu', 'GarageType',\n       'GarageYrBlt', 'GarageFinish', 'GarageCars', 'GarageArea', 'GarageQual',\n       'GarageCond', 'PavedDrive', 'WoodDeckSF', 'OpenPorchSF',\n       'EnclosedPorch', '3SsnPorch', 'ScreenPorch', 'PoolArea', 'PoolQC',\n       'Fence', 'MiscFeature', 'MiscVal', 'MoSold', 'YrSold', 'SaleType',\n       'SaleCondition', 'SalePrice'],\n      dtype='object')\n",
          "name": "stdout"
        }
      ]
    },
    {
      "metadata": {
        "_cell_guid": "33742aec-068e-492f-9622-88d4a9dba908",
        "_uuid": "c3a299ee71feed9b1f87db9a48118ee237f6af11",
        "trusted": true
      },
      "cell_type": "code",
      "source": "# lowa_data SalePrice of house \nlowa_price_data = lowa_data.SalePrice\n# print few rows from lowa_data's SalePrice column.  This is a Series\nprint(lowa_price_data.head())",
      "execution_count": 10,
      "outputs": [
        {
          "output_type": "stream",
          "text": "0    208500\n1    181500\n2    223500\n3    140000\n4    250000\nName: SalePrice, dtype: int64\n",
          "name": "stdout"
        }
      ]
    },
    {
      "metadata": {
        "_cell_guid": "78d26b52-411d-428c-833b-ac0ce19c5278",
        "_uuid": "b333e8454621b4f5b3b1b38cd426088d4eb131cc",
        "trusted": true
      },
      "cell_type": "code",
      "source": "# describe any two columns from lowa_data and store it in a DataFrame\ncolumns_of_interest = ['LotArea', 'SalePrice']\ntwo_columns_of_data = lowa_data[columns_of_interest]\n\nprint(two_columns_of_data.describe())",
      "execution_count": 11,
      "outputs": [
        {
          "output_type": "stream",
          "text": "             LotArea      SalePrice\ncount    1460.000000    1460.000000\nmean    10516.828082  180921.195890\nstd      9981.264932   79442.502883\nmin      1300.000000   34900.000000\n25%      7553.500000  129975.000000\n50%      9478.500000  163000.000000\n75%     11601.500000  214000.000000\nmax    215245.000000  755000.000000\n",
          "name": "stdout"
        }
      ]
    },
    {
      "metadata": {
        "_cell_guid": "a1fb0662-418c-4c2a-97bd-cdd5c4d539f0",
        "_uuid": "972530a40f51bc2c75027dd06ca9981139edbe73",
        "trusted": true
      },
      "cell_type": "code",
      "source": "# My first use of Scikit Learn Library.\n# Step 1: Choosing the prediction target.  Here I am selecting the SalePrice\n# By convention the prediction target will be called 'y' (without quotes).  Here we are going to predict the SalePrice.  Just assign it to 'y'\ny = lowa_data.SalePrice\n\n# Step 2: Now choose the predictors.  Here we use only numerical predictors.  But we can use any predictors.  By convention the predictors will be called 'X'.  It is a DataFrame\nlowa_predictors = ['LotArea', 'YearBuilt', '1stFlrSF', '2ndFlrSF', 'FullBath', 'BedroomAbvGr', 'TotRmsAbvGrd']\nX = lowa_data[lowa_predictors]\n\n# Step 3: Define a model.  Step 4: Fit the model\nfrom sklearn.tree import DecisionTreeRegressor\n\n# Define model\nlowa_model = DecisionTreeRegressor()\n\n# Fit model\nlowa_model.fit(X, y)\n",
      "execution_count": 12,
      "outputs": [
        {
          "output_type": "execute_result",
          "execution_count": 12,
          "data": {
            "text/plain": "DecisionTreeRegressor(criterion='mse', max_depth=None, max_features=None,\n           max_leaf_nodes=None, min_impurity_decrease=0.0,\n           min_impurity_split=None, min_samples_leaf=1,\n           min_samples_split=2, min_weight_fraction_leaf=0.0,\n           presort=False, random_state=None, splitter='best')"
          },
          "metadata": {}
        }
      ]
    },
    {
      "metadata": {
        "_cell_guid": "0b41408c-2e28-4c98-bb05-e24b20cbb7c5",
        "_uuid": "68a59118ac08eaa9d89a2ef835b144ab720c57de",
        "trusted": true
      },
      "cell_type": "code",
      "source": "# Step 5: Predict for some of the first few rows of X\nprint(\"Making predictions for the following 5 houses:\")\nprint(X.head())\nprint(\"The predictions are\")\nprint(lowa_model.predict(X.head()))\n# print(y.head()) Checking if the value of the predictions and the actual values are same or not -> This step is not essential",
      "execution_count": 3,
      "outputs": [
        {
          "output_type": "stream",
          "text": "Making predictions for the following 5 houses:\n   LotArea  YearBuilt  1stFlrSF  2ndFlrSF  FullBath  BedroomAbvGr  \\\n0     8450       2003       856       854         2             3   \n1     9600       1976      1262         0         2             3   \n2    11250       2001       920       866         2             3   \n3     9550       1915       961       756         1             3   \n4    14260       2000      1145      1053         2             4   \n\n   TotRmsAbvGrd  \n0             8  \n1             6  \n2             6  \n3             7  \n4             9  \nThe predictions are\n[208500. 181500. 223500. 140000. 250000.]\n",
          "name": "stdout"
        }
      ]
    },
    {
      "metadata": {
        "_cell_guid": "4420220c-969d-47fb-bab9-91da3302fb53",
        "_uuid": "fee804dc4e4b36fcf0a7bb388a5089f2e9529e66",
        "trusted": true
      },
      "cell_type": "code",
      "source": "# use train_test_split function to split up data\nfrom sklearn.model_selection import train_test_split\n\n# split data into training and validation data, for both predictors and target\n# The split is based on a random number generator. Supplying a numeric value to\n# the random_state argument guarantees we get the same split every time we\n# run this script.\ntrain_X, val_X, train_y, val_y = train_test_split(X, y, random_state = 0)\n# fit our model with the new data\nlowa_model.fit(train_X, train_y)\n\n# get predicted prices on validation data\nval_predictions = lowa_model.predict(val_X)\n\n# calculation of mean absoulute error (MAE).  The formula for MAE is 'error = actual - predicted'.  The error will be converted to a positive value even if it is negative.  And it's mean is MAE.\nfrom sklearn.metrics import mean_absolute_error\n\nprint(\"The MAE for our model using Decision Tree algorithm is: \" + str(mean_absolute_error(val_y, val_predictions)))",
      "execution_count": 4,
      "outputs": [
        {
          "output_type": "stream",
          "text": "The MAE for our model using Decision Tree algorithm is: 32693.279452054794\n",
          "name": "stdout"
        }
      ]
    },
    {
      "metadata": {
        "_cell_guid": "8e345afc-a64f-4ecf-85ee-0f353cb2cd26",
        "collapsed": true,
        "_uuid": "8b88fe5597d6b64e5aed5caf737439884ba3146f",
        "trusted": true
      },
      "cell_type": "code",
      "source": "def get_mae(max_leaf_nodes, predictors_train, predictors_val, targ_train, targ_val):\n    model = DecisionTreeRegressor(max_leaf_nodes=max_leaf_nodes, random_state=0)\n    model.fit(predictors_train, targ_train)\n    preds_val = model.predict(predictors_val)\n    mae = mean_absolute_error(targ_val, preds_val)\n    return(mae)",
      "execution_count": 6,
      "outputs": []
    },
    {
      "metadata": {
        "_cell_guid": "be6cdbb4-e9d5-40c7-af16-235a8924fde5",
        "_uuid": "e3032205224f88ce93fcae686fdf96209275d6df",
        "trusted": true
      },
      "cell_type": "code",
      "source": "# compare MAE with differing values of max_leaf_nodes\nfor max_leaf_nodes in [2, 5, 10, 20, 30, 31, 32, 33, 34, 35, 36, 37, 38, 39, 40, 50, 500, 5000]:\n    my_mae = get_mae(max_leaf_nodes, train_X, val_X, train_y, val_y)\n    print(\"Max leaf nodes: %d  \\t\\t Mean Absolute Error:  %d\" %(max_leaf_nodes, my_mae))",
      "execution_count": 7,
      "outputs": [
        {
          "output_type": "stream",
          "text": "Max leaf nodes: 2  \t\t Mean Absolute Error:  45933\nMax leaf nodes: 5  \t\t Mean Absolute Error:  35190\nMax leaf nodes: 10  \t\t Mean Absolute Error:  30616\nMax leaf nodes: 20  \t\t Mean Absolute Error:  29206\nMax leaf nodes: 30  \t\t Mean Absolute Error:  28302\nMax leaf nodes: 31  \t\t Mean Absolute Error:  27965\nMax leaf nodes: 32  \t\t Mean Absolute Error:  27852\nMax leaf nodes: 33  \t\t Mean Absolute Error:  27852\nMax leaf nodes: 34  \t\t Mean Absolute Error:  27880\nMax leaf nodes: 35  \t\t Mean Absolute Error:  27556\nMax leaf nodes: 36  \t\t Mean Absolute Error:  27372\nMax leaf nodes: 37  \t\t Mean Absolute Error:  27491\nMax leaf nodes: 38  \t\t Mean Absolute Error:  27509\nMax leaf nodes: 39  \t\t Mean Absolute Error:  27633\nMax leaf nodes: 40  \t\t Mean Absolute Error:  27570\nMax leaf nodes: 50  \t\t Mean Absolute Error:  27825\nMax leaf nodes: 500  \t\t Mean Absolute Error:  32662\nMax leaf nodes: 5000  \t\t Mean Absolute Error:  33382\n",
          "name": "stdout"
        }
      ]
    },
    {
      "metadata": {
        "_cell_guid": "3d594d42-2099-40d3-8152-42b4b25dd2d7",
        "_uuid": "ef3777f65a185671e559b6855d9fa610daf328e6",
        "trusted": true
      },
      "cell_type": "code",
      "source": "# Using a sophisticated Machine Learning algorithm 'Random Forests'\nfrom sklearn.ensemble import RandomForestRegressor\n\n# same steps as like DecisionTree\nlowa_forest_model = RandomForestRegressor()\nlowa_forest_model.fit(train_X, train_y)\nlowa_preds = lowa_forest_model.predict(val_X)\nprint(\"The MAE using Random Forests algorithm is: \" + str(mean_absolute_error(val_y, lowa_preds)))",
      "execution_count": 8,
      "outputs": [
        {
          "output_type": "stream",
          "text": "The MAE using Random Forests algorithm is: 24972.488949771694\n",
          "name": "stdout"
        }
      ]
    }
  ],
  "metadata": {
    "kernelspec": {
      "display_name": "Python 3",
      "language": "python",
      "name": "python3"
    },
    "language_info": {
      "name": "python",
      "version": "3.6.4",
      "mimetype": "text/x-python",
      "codemirror_mode": {
        "name": "ipython",
        "version": 3
      },
      "pygments_lexer": "ipython3",
      "nbconvert_exporter": "python",
      "file_extension": ".py"
    }
  },
  "nbformat": 4,
  "nbformat_minor": 1
}